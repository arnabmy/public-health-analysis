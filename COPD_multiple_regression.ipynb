{
  "nbformat": 4,
  "nbformat_minor": 0,
  "metadata": {
    "colab": {
      "name": "COPD multiple regression.ipynb",
      "provenance": [],
      "authorship_tag": "ABX9TyOaPJPCZZ8sUQCACizGqkEL",
      "include_colab_link": true
    },
    "kernelspec": {
      "name": "ir",
      "display_name": "R"
    },
    "language_info": {
      "name": "R"
    }
  },
  "cells": [
    {
      "cell_type": "markdown",
      "metadata": {
        "id": "view-in-github",
        "colab_type": "text"
      },
      "source": [
        "<a href=\"https://colab.research.google.com/github/arnabmy/public-health-analysis/blob/main/COPD_multiple_regression.ipynb\" target=\"_parent\"><img src=\"https://colab.research.google.com/assets/colab-badge.svg\" alt=\"Open In Colab\"/></a>"
      ]
    },
    {
      "cell_type": "code",
      "metadata": {
        "id": "ZTMA4F2aeufy"
      },
      "source": [
        "COPD <- read.csv('/content/sample_data/COPD_student_dataset.csv')"
      ],
      "execution_count": 1,
      "outputs": []
    },
    {
      "cell_type": "code",
      "metadata": {
        "colab": {
          "base_uri": "https://localhost:8080/",
          "height": 1000
        },
        "id": "mJrk2fQve4Gs",
        "outputId": "a54009e2-be15-4ef9-9b68-603883ea561a"
      },
      "source": [
        "View(COPD)"
      ],
      "execution_count": 3,
      "outputs": [
        {
          "output_type": "display_data",
          "data": {
            "text/markdown": "\nA data.frame: 101 × 24\n\n| X &lt;int&gt; | ID &lt;int&gt; | AGE &lt;int&gt; | PackHistory &lt;dbl&gt; | COPDSEVERITY &lt;chr&gt; | MWT1 &lt;int&gt; | MWT2 &lt;int&gt; | MWT1Best &lt;int&gt; | FEV1 &lt;dbl&gt; | FEV1PRED &lt;dbl&gt; | ⋯ ⋯ | SGRQ &lt;dbl&gt; | AGEquartiles &lt;int&gt; | copd &lt;int&gt; | gender &lt;int&gt; | smoking &lt;int&gt; | Diabetes &lt;int&gt; | muscular &lt;int&gt; | hypertension &lt;int&gt; | AtrialFib &lt;int&gt; | IHD &lt;int&gt; |\n|---|---|---|---|---|---|---|---|---|---|---|---|---|---|---|---|---|---|---|---|---|\n|  1 |  58 | 77 |  60 | SEVERE      | 120 | 120 | 120 | 1.21 | 36.00 | ⋯ | 69.55 | 4 | 3 | 1 | 2 | 1 | 0 | 0 | 1 | 0 |\n|  2 |  57 | 79 |  50 | MODERATE    | 165 | 176 | 176 | 1.09 | 56.00 | ⋯ | 44.24 | 4 | 2 | 0 | 2 | 1 | 0 | 0 | 1 | 1 |\n|  3 |  62 | 80 |  11 | MODERATE    | 201 | 180 | 201 | 1.52 | 68.00 | ⋯ | 44.09 | 4 | 2 | 0 | 2 | 1 | 0 | 0 | 1 | 0 |\n|  4 | 145 | 56 |  60 | VERY SEVERE | 210 | 210 | 210 | 0.47 | 14.00 | ⋯ | 62.04 | 1 | 4 | 1 | 2 | 0 | 0 | 1 | 1 | 0 |\n|  5 | 136 | 65 |  68 | SEVERE      | 204 | 210 | 210 | 1.07 | 42.00 | ⋯ | 75.56 | 1 | 3 | 1 | 2 | 0 | 1 | 1 | 0 | 0 |\n|  6 |  84 | 67 |  26 | MODERATE    | 216 | 180 | 216 | 1.09 | 50.00 | ⋯ | 73.82 | 2 | 2 | 0 | 1 | 1 | 0 | 0 | 1 | 0 |\n|  7 |  93 | 67 |  50 | SEVERE      | 214 | 237 | 237 | 0.69 | 35.00 | ⋯ | 77.44 | 2 | 3 | 0 | 1 | 1 | 0 | 0 | 1 | 0 |\n|  8 |  27 | 83 |  90 | SEVERE      | 214 | 237 | 237 | 0.68 | 32.00 | ⋯ | 45.41 | 4 | 3 | 1 | 2 | 1 | 0 | 0 | 1 | 0 |\n|  9 | 114 | 72 |  50 | MODERATE    | 231 | 237 | 237 | 2.13 | 63.00 | ⋯ | 69.61 | 3 | 2 | 1 | 1 | 1 | 0 | 0 | 1 | 0 |\n| 10 | 152 | 75 |   6 | SEVERE      | 226 | 240 | 240 | 1.06 | 46.00 | ⋯ | 55.56 | 3 | 3 | 0 | 2 | 0 | 1 | 0 | 0 | 0 |\n| 11 | 166 | 76 |   6 | SEVERE      | 226 | 240 | 240 | 1.10 | 46.00 | ⋯ | 55.56 | 3 | 3 | 0 | 2 | 1 | 1 | 0 | 1 | 0 |\n| 12 | 139 | 59 |  28 | VERY SEVERE | 240 | 230 | 240 | 0.68 | 29.00 | ⋯ | 55.23 | 1 | 4 | 0 | 2 | 0 | 0 | 0 | 1 | 0 |\n| 13 |  49 | 64 |  30 | VERY SEVERE | 246 | 234 | 246 | 0.45 | 17.00 | ⋯ | 50.53 | 1 | 4 | 1 | 2 | 1 | 0 | 0 | 1 | 0 |\n| 14 |  80 | 74 |  75 | MILD        | 213 | 270 | 270 | 1.79 | 83.00 | ⋯ | 45.00 | 3 | 1 | 0 | 1 | 0 | 0 | 0 | 1 | 0 |\n| 15 | 162 | 70 | 103 | MODERATE    | 264 | 271 | 271 | 1.20 | 52.00 | ⋯ | 39.66 | 2 | 2 | 0 | 2 | 0 | 0 | 0 | 0 | 0 |\n| 16 | 162 | 71 | 105 | MODERATE    | 264 | 271 | 271 | 0.72 | 52.00 | ⋯ | 39.66 | 2 | 2 | 0 | 2 | 0 | 0 | 0 | 0 | 0 |\n| 17 |  41 | 69 |  78 | SEVERE      | 243 | 273 | 273 | 1.46 | 46.00 | ⋯ | 28.86 | 2 | 3 | 1 | 2 | 1 | 0 | 0 | 1 | 0 |\n| 18 |   1 | 55 | 109 | MODERATE    | 281 | 273 | 281 | 1.54 | 72.00 | ⋯ | 76.50 | 1 | 2 | 0 | 2 | 0 | 0 | 0 | 0 | 0 |\n| 19 | 153 | 72 |  15 | VERY SEVERE | 289 | 267 | 289 | 0.60 | 24.00 | ⋯ | 38.74 | 3 | 4 | 1 | 2 | 0 | 0 | 0 | 0 | 0 |\n| 20 | 167 | 72 |  15 | VERY SEVERE | 289 | 267 | 289 | 0.89 | 24.00 | ⋯ | 38.74 | 3 | 4 | 1 | 2 | 0 | 0 | 0 | 0 | 0 |\n| 21 | 138 | 74 |  24 | VERY SEVERE | 267 | 295 | 295 | 0.51 | 27.00 | ⋯ | 71.21 | 3 | 4 | 0 | 2 | 0 | 0 | 0 | 0 | 0 |\n| 22 |  48 | 75 |  40 | VERY SEVERE | 297 | 291 | 297 | 0.79 | 30.00 | ⋯ | 35.79 | 3 | 4 | 1 | 1 | 0 | 0 | 0 | 0 | 0 |\n| 23 | 110 | 69 |  15 | SEVERE      | 300 | 300 | 300 | 0.91 | 39.00 | ⋯ | 58.78 | 2 | 3 | 0 | 2 | 0 | 0 | 0 | 0 | 0 |\n| 24 |  15 | 73 |  75 | SEVERE      | 300 | 243 | 300 | 1.46 |  3.39 | ⋯ | 34.71 | 3 | 3 | 1 | 2 | 1 | 0 | 0 | 0 | 0 |\n| 25 |  70 | 75 |  45 | MILD        | 282 | 300 | 300 | 2.35 | 85.00 | ⋯ | 58.25 | 3 | 1 | 1 | 2 | 0 | 0 | 0 | 0 | 0 |\n| 26 |  63 | 80 |  67 | MODERATE    | 300 | 305 | 305 | 1.77 | 58.00 | ⋯ | 67.66 | 4 | 2 | 1 | 2 | 0 | 0 | 0 | 0 | 0 |\n| 27 |  81 | 76 |  38 | SEVERE      | 281 | 312 | 312 | 1.06 | 32.00 | ⋯ | 56.80 | 4 | 3 | 1 | 1 | 0 | 0 | 0 | 0 | 0 |\n| 28 |  11 | 73 |  31 | MODERATE    | 336 | 336 | 336 | 1.88 | 70.00 | ⋯ | 66.51 | 3 | 2 | 1 | 2 | 0 | 1 | 0 | 0 | 0 |\n| 29 |  31 | 77 |  75 | MODERATE    | 322 | 338 | 338 | 1.92 | 68.00 | ⋯ | 36.39 | 4 | 2 | 1 | 2 | 0 | 1 | 0 | 1 | 0 |\n| 30 |  68 | 88 |   1 | SEVERE      | 350 | 350 | 350 | 1.30 | 37.00 | ⋯ | 47.20 | 4 | 3 | 1 | 2 | 1 | 0 | 1 | 0 | 1 |\n| ⋮ | ⋮ | ⋮ | ⋮ | ⋮ | ⋮ | ⋮ | ⋮ | ⋮ | ⋮ | ⋱ | ⋮ | ⋮ | ⋮ | ⋮ | ⋮ | ⋮ | ⋮ | ⋮ | ⋮ | ⋮ |\n|  72 | 140 | 49 | 39 | VERY SEVERE | 461 | 460 | 461 | 0.74 | 27.00 | ⋯ | 28.33 | 1 | 4 | 0 | 2 | 0 | 0 | 0 | 0 | 0 |\n|  73 |   3 | 75 |  5 | MODERATE    | 462 | 423 | 462 | 2.43 | 79.00 | ⋯ | 47.88 | 3 | 2 | 1 | 2 | 0 | 0 | 0 | 0 | 0 |\n|  74 |  30 | 73 | 60 | MODERATE    | 443 | 462 | 462 | 1.92 | 66.00 | ⋯ | 56.96 | 3 | 2 | 1 | 2 | 0 | 1 | 0 | 0 | 1 |\n|  75 |  54 | 78 | 30 | SEVERE      | 420 | 465 | 465 | 1.14 | 36.00 | ⋯ | 34.46 | 4 | 3 | 1 | 2 | 0 | 0 | 0 | 0 | 0 |\n|  76 | 143 | 67 | 45 | MILD        | 460 | 466 | 466 | 2.79 | 88.00 | ⋯ | 29.98 | 2 | 1 | 1 | 1 | 0 | 0 | 0 | 0 | 0 |\n|  77 | 157 | 75 | 30 | MODERATE    | 469 | 399 | 469 | 1.64 | 59.00 | ⋯ | 32.38 | 4 | 2 | 1 | 1 | 0 | 0 | 0 | 0 | 0 |\n|  78 | 157 | 76 | 30 | MODERATE    | 469 | 399 | 469 | 1.74 | 59.00 | ⋯ | 32.38 | 4 | 2 | 1 | 1 | 0 | 0 | 0 | 0 | 0 |\n|  79 |  34 | 63 | 50 | MODERATE    | 476 | 414 | 476 | 1.69 | 68.00 | ⋯ | 47.36 | 1 | 2 | 0 | 2 | 1 | 0 | 0 | 0 | 0 |\n|  80 |  78 | 65 |  6 | MILD        | 468 | 480 | 480 | 3.18 | 85.00 | ⋯ | 56.20 | 1 | 1 | 0 | 2 | 0 | 0 | 0 | 0 | 0 |\n|  81 |  18 | 65 | 20 | MILD        | 468 | 480 | 480 | 2.13 | 92.00 | ⋯ |  2.00 | 1 | 1 | 0 | 2 | 0 | 0 | 1 | 0 | 0 |\n|  82 |  52 | 62 |  8 | MODERATE    | 459 | 480 | 480 | 2.52 | 79.00 | ⋯ | 32.69 | 1 | 2 | 1 | 2 | 0 | 0 | 1 | 0 | 0 |\n|  83 | 146 | 63 | 20 | MODERATE    | 474 | 489 | 489 | 1.01 | 54.00 | ⋯ | 17.95 | 1 | 2 | 0 | 2 | 0 | 0 | 0 | 0 | 0 |\n|  84 | 104 | 64 | 35 | SEVERE      | 474 | 489 | 489 | 0.82 | 46.00 | ⋯ | 67.56 | 1 | 3 | 0 | 1 | 0 | 0 | 0 | 0 | 0 |\n|  85 |  92 | 72 | 75 | SEVERE      | 492 | 440 | 492 | 0.94 | 30.00 | ⋯ | 45.30 | 3 | 3 | 1 | 2 | 1 | 0 | 0 | 0 | 0 |\n|  86 |  87 | 61 |  9 | MODERATE    | 496 | 492 | 496 | 1.37 | 55.00 | ⋯ | 39.51 | 1 | 2 | 0 | 1 | 0 | 0 | 0 | 0 | 0 |\n|  87 |  16 | 60 | 10 | MODERATE    | 492 | 498 | 498 | 1.96 |  3.29 | ⋯ | 24.52 | 1 | 2 | 1 | 2 | 0 | 0 | 0 | 0 | 0 |\n|  88 | 133 | 78 | 51 | MODERATE    | 501 | 496 | 501 | 1.23 | 76.00 | ⋯ | 33.69 | 4 | 2 | 0 | 2 | 0 | 0 | 0 | 0 | 1 |\n|  89 |  90 | 67 | 20 | MODERATE    | 496 | 505 | 505 | 2.74 | 75.00 | ⋯ |  8.12 | 2 | 2 | 1 | 2 | 0 | 0 | 0 | 0 | 0 |\n|  90 | 111 | 68 | 30 | MILD        | 510 | 518 | 518 | 1.75 | 61.00 | ⋯ | 33.20 | 2 | 1 | 1 | 1 | 0 | 0 | 0 | 0 | 0 |\n|  91 | 118 | 72 | 30 | MILD        | 510 | 525 | 525 | 2.80 | 80.00 | ⋯ | 42.88 | 3 | 1 | 1 | 2 | 0 | 0 | 0 | 0 | 0 |\n|  92 | 149 | 69 | 27 | MODERATE    | 495 | 531 | 531 | 1.89 | 69.00 | ⋯ |  8.25 | 2 | 2 | 1 | 2 | 0 | 0 | 0 | 0 | 0 |\n|  93 | 163 | 68 | 27 | MODERATE    | 495 | 531 | 531 | 1.89 | 69.00 | ⋯ |  8.25 | 2 | 2 | 1 | 2 | 0 | 0 | 0 | 0 | 0 |\n|  94 | 112 | 52 | 40 | MILD        | 483 | 540 | 540 | 2.93 | 75.00 | ⋯ | 25.62 | 1 | 1 | 1 | 1 | 0 | 0 | 0 | 0 | 0 |\n|  95 | 135 | 55 | 40 | MILD        | 522 | 540 | 540 | 2.75 | 85.00 | ⋯ | 58.41 | 1 | 1 | 1 | 2 | 1 | 0 | 0 | 0 | 1 |\n|  96 |  12 | 72 | 30 | MODERATE    | 558 | 563 | 558 | 1.61 | 61.00 | ⋯ | 34.64 | 3 | 2 | 1 | 2 | 0 | 0 | 0 | 0 | 1 |\n|  97 |  10 | 68 | 25 | MILD        | 511 | 575 | 575 | 2.70 | 98.00 | ⋯ | 35.84 | 2 | 1 | 1 | 2 | 0 | 1 | 0 | 0 | 0 |\n|  98 |  43 | 75 | 40 | MILD        | 576 | 577 | 577 | 2.90 | 93.00 | ⋯ | 15.05 | 3 | 1 | 1 | 2 | 0 | 1 | 0 | 0 | 1 |\n|  99 |  74 | 68 | 30 | MODERATE    | 468 | 582 | 582 | 1.65 | 67.00 | ⋯ | 19.70 | 2 | 2 | 0 | 2 | 0 | 0 | 1 | 0 | 0 |\n| 100 | 108 | 54 | 30 | SEVERE      | 688 | 699 | 699 | 1.72 | 44.00 | ⋯ | 20.55 | 1 | 3 | 1 | 2 | 0 | 0 | 0 | 0 | 0 |\n| 101 |  85 | 78 | 55 | MODERATE    |  NA |  NA |  NA | 1.15 | 54.00 | ⋯ | 30.21 | 4 | 2 | 1 | 2 | 0 | 0 | 0 | 0 | 0 |\n\n",
            "text/latex": "A data.frame: 101 × 24\n\\begin{tabular}{lllllllllllllllllllll}\n X & ID & AGE & PackHistory & COPDSEVERITY & MWT1 & MWT2 & MWT1Best & FEV1 & FEV1PRED & ⋯ & SGRQ & AGEquartiles & copd & gender & smoking & Diabetes & muscular & hypertension & AtrialFib & IHD\\\\\n <int> & <int> & <int> & <dbl> & <chr> & <int> & <int> & <int> & <dbl> & <dbl> & ⋯ & <dbl> & <int> & <int> & <int> & <int> & <int> & <int> & <int> & <int> & <int>\\\\\n\\hline\n\t  1 &  58 & 77 &  60 & SEVERE      & 120 & 120 & 120 & 1.21 & 36.00 & ⋯ & 69.55 & 4 & 3 & 1 & 2 & 1 & 0 & 0 & 1 & 0\\\\\n\t  2 &  57 & 79 &  50 & MODERATE    & 165 & 176 & 176 & 1.09 & 56.00 & ⋯ & 44.24 & 4 & 2 & 0 & 2 & 1 & 0 & 0 & 1 & 1\\\\\n\t  3 &  62 & 80 &  11 & MODERATE    & 201 & 180 & 201 & 1.52 & 68.00 & ⋯ & 44.09 & 4 & 2 & 0 & 2 & 1 & 0 & 0 & 1 & 0\\\\\n\t  4 & 145 & 56 &  60 & VERY SEVERE & 210 & 210 & 210 & 0.47 & 14.00 & ⋯ & 62.04 & 1 & 4 & 1 & 2 & 0 & 0 & 1 & 1 & 0\\\\\n\t  5 & 136 & 65 &  68 & SEVERE      & 204 & 210 & 210 & 1.07 & 42.00 & ⋯ & 75.56 & 1 & 3 & 1 & 2 & 0 & 1 & 1 & 0 & 0\\\\\n\t  6 &  84 & 67 &  26 & MODERATE    & 216 & 180 & 216 & 1.09 & 50.00 & ⋯ & 73.82 & 2 & 2 & 0 & 1 & 1 & 0 & 0 & 1 & 0\\\\\n\t  7 &  93 & 67 &  50 & SEVERE      & 214 & 237 & 237 & 0.69 & 35.00 & ⋯ & 77.44 & 2 & 3 & 0 & 1 & 1 & 0 & 0 & 1 & 0\\\\\n\t  8 &  27 & 83 &  90 & SEVERE      & 214 & 237 & 237 & 0.68 & 32.00 & ⋯ & 45.41 & 4 & 3 & 1 & 2 & 1 & 0 & 0 & 1 & 0\\\\\n\t  9 & 114 & 72 &  50 & MODERATE    & 231 & 237 & 237 & 2.13 & 63.00 & ⋯ & 69.61 & 3 & 2 & 1 & 1 & 1 & 0 & 0 & 1 & 0\\\\\n\t 10 & 152 & 75 &   6 & SEVERE      & 226 & 240 & 240 & 1.06 & 46.00 & ⋯ & 55.56 & 3 & 3 & 0 & 2 & 0 & 1 & 0 & 0 & 0\\\\\n\t 11 & 166 & 76 &   6 & SEVERE      & 226 & 240 & 240 & 1.10 & 46.00 & ⋯ & 55.56 & 3 & 3 & 0 & 2 & 1 & 1 & 0 & 1 & 0\\\\\n\t 12 & 139 & 59 &  28 & VERY SEVERE & 240 & 230 & 240 & 0.68 & 29.00 & ⋯ & 55.23 & 1 & 4 & 0 & 2 & 0 & 0 & 0 & 1 & 0\\\\\n\t 13 &  49 & 64 &  30 & VERY SEVERE & 246 & 234 & 246 & 0.45 & 17.00 & ⋯ & 50.53 & 1 & 4 & 1 & 2 & 1 & 0 & 0 & 1 & 0\\\\\n\t 14 &  80 & 74 &  75 & MILD        & 213 & 270 & 270 & 1.79 & 83.00 & ⋯ & 45.00 & 3 & 1 & 0 & 1 & 0 & 0 & 0 & 1 & 0\\\\\n\t 15 & 162 & 70 & 103 & MODERATE    & 264 & 271 & 271 & 1.20 & 52.00 & ⋯ & 39.66 & 2 & 2 & 0 & 2 & 0 & 0 & 0 & 0 & 0\\\\\n\t 16 & 162 & 71 & 105 & MODERATE    & 264 & 271 & 271 & 0.72 & 52.00 & ⋯ & 39.66 & 2 & 2 & 0 & 2 & 0 & 0 & 0 & 0 & 0\\\\\n\t 17 &  41 & 69 &  78 & SEVERE      & 243 & 273 & 273 & 1.46 & 46.00 & ⋯ & 28.86 & 2 & 3 & 1 & 2 & 1 & 0 & 0 & 1 & 0\\\\\n\t 18 &   1 & 55 & 109 & MODERATE    & 281 & 273 & 281 & 1.54 & 72.00 & ⋯ & 76.50 & 1 & 2 & 0 & 2 & 0 & 0 & 0 & 0 & 0\\\\\n\t 19 & 153 & 72 &  15 & VERY SEVERE & 289 & 267 & 289 & 0.60 & 24.00 & ⋯ & 38.74 & 3 & 4 & 1 & 2 & 0 & 0 & 0 & 0 & 0\\\\\n\t 20 & 167 & 72 &  15 & VERY SEVERE & 289 & 267 & 289 & 0.89 & 24.00 & ⋯ & 38.74 & 3 & 4 & 1 & 2 & 0 & 0 & 0 & 0 & 0\\\\\n\t 21 & 138 & 74 &  24 & VERY SEVERE & 267 & 295 & 295 & 0.51 & 27.00 & ⋯ & 71.21 & 3 & 4 & 0 & 2 & 0 & 0 & 0 & 0 & 0\\\\\n\t 22 &  48 & 75 &  40 & VERY SEVERE & 297 & 291 & 297 & 0.79 & 30.00 & ⋯ & 35.79 & 3 & 4 & 1 & 1 & 0 & 0 & 0 & 0 & 0\\\\\n\t 23 & 110 & 69 &  15 & SEVERE      & 300 & 300 & 300 & 0.91 & 39.00 & ⋯ & 58.78 & 2 & 3 & 0 & 2 & 0 & 0 & 0 & 0 & 0\\\\\n\t 24 &  15 & 73 &  75 & SEVERE      & 300 & 243 & 300 & 1.46 &  3.39 & ⋯ & 34.71 & 3 & 3 & 1 & 2 & 1 & 0 & 0 & 0 & 0\\\\\n\t 25 &  70 & 75 &  45 & MILD        & 282 & 300 & 300 & 2.35 & 85.00 & ⋯ & 58.25 & 3 & 1 & 1 & 2 & 0 & 0 & 0 & 0 & 0\\\\\n\t 26 &  63 & 80 &  67 & MODERATE    & 300 & 305 & 305 & 1.77 & 58.00 & ⋯ & 67.66 & 4 & 2 & 1 & 2 & 0 & 0 & 0 & 0 & 0\\\\\n\t 27 &  81 & 76 &  38 & SEVERE      & 281 & 312 & 312 & 1.06 & 32.00 & ⋯ & 56.80 & 4 & 3 & 1 & 1 & 0 & 0 & 0 & 0 & 0\\\\\n\t 28 &  11 & 73 &  31 & MODERATE    & 336 & 336 & 336 & 1.88 & 70.00 & ⋯ & 66.51 & 3 & 2 & 1 & 2 & 0 & 1 & 0 & 0 & 0\\\\\n\t 29 &  31 & 77 &  75 & MODERATE    & 322 & 338 & 338 & 1.92 & 68.00 & ⋯ & 36.39 & 4 & 2 & 1 & 2 & 0 & 1 & 0 & 1 & 0\\\\\n\t 30 &  68 & 88 &   1 & SEVERE      & 350 & 350 & 350 & 1.30 & 37.00 & ⋯ & 47.20 & 4 & 3 & 1 & 2 & 1 & 0 & 1 & 0 & 1\\\\\n\t ⋮ & ⋮ & ⋮ & ⋮ & ⋮ & ⋮ & ⋮ & ⋮ & ⋮ & ⋮ & ⋱ & ⋮ & ⋮ & ⋮ & ⋮ & ⋮ & ⋮ & ⋮ & ⋮ & ⋮ & ⋮\\\\\n\t  72 & 140 & 49 & 39 & VERY SEVERE & 461 & 460 & 461 & 0.74 & 27.00 & ⋯ & 28.33 & 1 & 4 & 0 & 2 & 0 & 0 & 0 & 0 & 0\\\\\n\t  73 &   3 & 75 &  5 & MODERATE    & 462 & 423 & 462 & 2.43 & 79.00 & ⋯ & 47.88 & 3 & 2 & 1 & 2 & 0 & 0 & 0 & 0 & 0\\\\\n\t  74 &  30 & 73 & 60 & MODERATE    & 443 & 462 & 462 & 1.92 & 66.00 & ⋯ & 56.96 & 3 & 2 & 1 & 2 & 0 & 1 & 0 & 0 & 1\\\\\n\t  75 &  54 & 78 & 30 & SEVERE      & 420 & 465 & 465 & 1.14 & 36.00 & ⋯ & 34.46 & 4 & 3 & 1 & 2 & 0 & 0 & 0 & 0 & 0\\\\\n\t  76 & 143 & 67 & 45 & MILD        & 460 & 466 & 466 & 2.79 & 88.00 & ⋯ & 29.98 & 2 & 1 & 1 & 1 & 0 & 0 & 0 & 0 & 0\\\\\n\t  77 & 157 & 75 & 30 & MODERATE    & 469 & 399 & 469 & 1.64 & 59.00 & ⋯ & 32.38 & 4 & 2 & 1 & 1 & 0 & 0 & 0 & 0 & 0\\\\\n\t  78 & 157 & 76 & 30 & MODERATE    & 469 & 399 & 469 & 1.74 & 59.00 & ⋯ & 32.38 & 4 & 2 & 1 & 1 & 0 & 0 & 0 & 0 & 0\\\\\n\t  79 &  34 & 63 & 50 & MODERATE    & 476 & 414 & 476 & 1.69 & 68.00 & ⋯ & 47.36 & 1 & 2 & 0 & 2 & 1 & 0 & 0 & 0 & 0\\\\\n\t  80 &  78 & 65 &  6 & MILD        & 468 & 480 & 480 & 3.18 & 85.00 & ⋯ & 56.20 & 1 & 1 & 0 & 2 & 0 & 0 & 0 & 0 & 0\\\\\n\t  81 &  18 & 65 & 20 & MILD        & 468 & 480 & 480 & 2.13 & 92.00 & ⋯ &  2.00 & 1 & 1 & 0 & 2 & 0 & 0 & 1 & 0 & 0\\\\\n\t  82 &  52 & 62 &  8 & MODERATE    & 459 & 480 & 480 & 2.52 & 79.00 & ⋯ & 32.69 & 1 & 2 & 1 & 2 & 0 & 0 & 1 & 0 & 0\\\\\n\t  83 & 146 & 63 & 20 & MODERATE    & 474 & 489 & 489 & 1.01 & 54.00 & ⋯ & 17.95 & 1 & 2 & 0 & 2 & 0 & 0 & 0 & 0 & 0\\\\\n\t  84 & 104 & 64 & 35 & SEVERE      & 474 & 489 & 489 & 0.82 & 46.00 & ⋯ & 67.56 & 1 & 3 & 0 & 1 & 0 & 0 & 0 & 0 & 0\\\\\n\t  85 &  92 & 72 & 75 & SEVERE      & 492 & 440 & 492 & 0.94 & 30.00 & ⋯ & 45.30 & 3 & 3 & 1 & 2 & 1 & 0 & 0 & 0 & 0\\\\\n\t  86 &  87 & 61 &  9 & MODERATE    & 496 & 492 & 496 & 1.37 & 55.00 & ⋯ & 39.51 & 1 & 2 & 0 & 1 & 0 & 0 & 0 & 0 & 0\\\\\n\t  87 &  16 & 60 & 10 & MODERATE    & 492 & 498 & 498 & 1.96 &  3.29 & ⋯ & 24.52 & 1 & 2 & 1 & 2 & 0 & 0 & 0 & 0 & 0\\\\\n\t  88 & 133 & 78 & 51 & MODERATE    & 501 & 496 & 501 & 1.23 & 76.00 & ⋯ & 33.69 & 4 & 2 & 0 & 2 & 0 & 0 & 0 & 0 & 1\\\\\n\t  89 &  90 & 67 & 20 & MODERATE    & 496 & 505 & 505 & 2.74 & 75.00 & ⋯ &  8.12 & 2 & 2 & 1 & 2 & 0 & 0 & 0 & 0 & 0\\\\\n\t  90 & 111 & 68 & 30 & MILD        & 510 & 518 & 518 & 1.75 & 61.00 & ⋯ & 33.20 & 2 & 1 & 1 & 1 & 0 & 0 & 0 & 0 & 0\\\\\n\t  91 & 118 & 72 & 30 & MILD        & 510 & 525 & 525 & 2.80 & 80.00 & ⋯ & 42.88 & 3 & 1 & 1 & 2 & 0 & 0 & 0 & 0 & 0\\\\\n\t  92 & 149 & 69 & 27 & MODERATE    & 495 & 531 & 531 & 1.89 & 69.00 & ⋯ &  8.25 & 2 & 2 & 1 & 2 & 0 & 0 & 0 & 0 & 0\\\\\n\t  93 & 163 & 68 & 27 & MODERATE    & 495 & 531 & 531 & 1.89 & 69.00 & ⋯ &  8.25 & 2 & 2 & 1 & 2 & 0 & 0 & 0 & 0 & 0\\\\\n\t  94 & 112 & 52 & 40 & MILD        & 483 & 540 & 540 & 2.93 & 75.00 & ⋯ & 25.62 & 1 & 1 & 1 & 1 & 0 & 0 & 0 & 0 & 0\\\\\n\t  95 & 135 & 55 & 40 & MILD        & 522 & 540 & 540 & 2.75 & 85.00 & ⋯ & 58.41 & 1 & 1 & 1 & 2 & 1 & 0 & 0 & 0 & 1\\\\\n\t  96 &  12 & 72 & 30 & MODERATE    & 558 & 563 & 558 & 1.61 & 61.00 & ⋯ & 34.64 & 3 & 2 & 1 & 2 & 0 & 0 & 0 & 0 & 1\\\\\n\t  97 &  10 & 68 & 25 & MILD        & 511 & 575 & 575 & 2.70 & 98.00 & ⋯ & 35.84 & 2 & 1 & 1 & 2 & 0 & 1 & 0 & 0 & 0\\\\\n\t  98 &  43 & 75 & 40 & MILD        & 576 & 577 & 577 & 2.90 & 93.00 & ⋯ & 15.05 & 3 & 1 & 1 & 2 & 0 & 1 & 0 & 0 & 1\\\\\n\t  99 &  74 & 68 & 30 & MODERATE    & 468 & 582 & 582 & 1.65 & 67.00 & ⋯ & 19.70 & 2 & 2 & 0 & 2 & 0 & 0 & 1 & 0 & 0\\\\\n\t 100 & 108 & 54 & 30 & SEVERE      & 688 & 699 & 699 & 1.72 & 44.00 & ⋯ & 20.55 & 1 & 3 & 1 & 2 & 0 & 0 & 0 & 0 & 0\\\\\n\t 101 &  85 & 78 & 55 & MODERATE    &  NA &  NA &  NA & 1.15 & 54.00 & ⋯ & 30.21 & 4 & 2 & 1 & 2 & 0 & 0 & 0 & 0 & 0\\\\\n\\end{tabular}\n",
            "text/html": [
              "<table class=\"dataframe\">\n",
              "<caption>A data.frame: 101 × 24</caption>\n",
              "<thead>\n",
              "\t<tr><th scope=col>X</th><th scope=col>ID</th><th scope=col>AGE</th><th scope=col>PackHistory</th><th scope=col>COPDSEVERITY</th><th scope=col>MWT1</th><th scope=col>MWT2</th><th scope=col>MWT1Best</th><th scope=col>FEV1</th><th scope=col>FEV1PRED</th><th scope=col>⋯</th><th scope=col>SGRQ</th><th scope=col>AGEquartiles</th><th scope=col>copd</th><th scope=col>gender</th><th scope=col>smoking</th><th scope=col>Diabetes</th><th scope=col>muscular</th><th scope=col>hypertension</th><th scope=col>AtrialFib</th><th scope=col>IHD</th></tr>\n",
              "\t<tr><th scope=col>&lt;int&gt;</th><th scope=col>&lt;int&gt;</th><th scope=col>&lt;int&gt;</th><th scope=col>&lt;dbl&gt;</th><th scope=col>&lt;chr&gt;</th><th scope=col>&lt;int&gt;</th><th scope=col>&lt;int&gt;</th><th scope=col>&lt;int&gt;</th><th scope=col>&lt;dbl&gt;</th><th scope=col>&lt;dbl&gt;</th><th scope=col>⋯</th><th scope=col>&lt;dbl&gt;</th><th scope=col>&lt;int&gt;</th><th scope=col>&lt;int&gt;</th><th scope=col>&lt;int&gt;</th><th scope=col>&lt;int&gt;</th><th scope=col>&lt;int&gt;</th><th scope=col>&lt;int&gt;</th><th scope=col>&lt;int&gt;</th><th scope=col>&lt;int&gt;</th><th scope=col>&lt;int&gt;</th></tr>\n",
              "</thead>\n",
              "<tbody>\n",
              "\t<tr><td> 1</td><td> 58</td><td>77</td><td> 60</td><td>SEVERE     </td><td>120</td><td>120</td><td>120</td><td>1.21</td><td>36.00</td><td>⋯</td><td>69.55</td><td>4</td><td>3</td><td>1</td><td>2</td><td>1</td><td>0</td><td>0</td><td>1</td><td>0</td></tr>\n",
              "\t<tr><td> 2</td><td> 57</td><td>79</td><td> 50</td><td>MODERATE   </td><td>165</td><td>176</td><td>176</td><td>1.09</td><td>56.00</td><td>⋯</td><td>44.24</td><td>4</td><td>2</td><td>0</td><td>2</td><td>1</td><td>0</td><td>0</td><td>1</td><td>1</td></tr>\n",
              "\t<tr><td> 3</td><td> 62</td><td>80</td><td> 11</td><td>MODERATE   </td><td>201</td><td>180</td><td>201</td><td>1.52</td><td>68.00</td><td>⋯</td><td>44.09</td><td>4</td><td>2</td><td>0</td><td>2</td><td>1</td><td>0</td><td>0</td><td>1</td><td>0</td></tr>\n",
              "\t<tr><td> 4</td><td>145</td><td>56</td><td> 60</td><td>VERY SEVERE</td><td>210</td><td>210</td><td>210</td><td>0.47</td><td>14.00</td><td>⋯</td><td>62.04</td><td>1</td><td>4</td><td>1</td><td>2</td><td>0</td><td>0</td><td>1</td><td>1</td><td>0</td></tr>\n",
              "\t<tr><td> 5</td><td>136</td><td>65</td><td> 68</td><td>SEVERE     </td><td>204</td><td>210</td><td>210</td><td>1.07</td><td>42.00</td><td>⋯</td><td>75.56</td><td>1</td><td>3</td><td>1</td><td>2</td><td>0</td><td>1</td><td>1</td><td>0</td><td>0</td></tr>\n",
              "\t<tr><td> 6</td><td> 84</td><td>67</td><td> 26</td><td>MODERATE   </td><td>216</td><td>180</td><td>216</td><td>1.09</td><td>50.00</td><td>⋯</td><td>73.82</td><td>2</td><td>2</td><td>0</td><td>1</td><td>1</td><td>0</td><td>0</td><td>1</td><td>0</td></tr>\n",
              "\t<tr><td> 7</td><td> 93</td><td>67</td><td> 50</td><td>SEVERE     </td><td>214</td><td>237</td><td>237</td><td>0.69</td><td>35.00</td><td>⋯</td><td>77.44</td><td>2</td><td>3</td><td>0</td><td>1</td><td>1</td><td>0</td><td>0</td><td>1</td><td>0</td></tr>\n",
              "\t<tr><td> 8</td><td> 27</td><td>83</td><td> 90</td><td>SEVERE     </td><td>214</td><td>237</td><td>237</td><td>0.68</td><td>32.00</td><td>⋯</td><td>45.41</td><td>4</td><td>3</td><td>1</td><td>2</td><td>1</td><td>0</td><td>0</td><td>1</td><td>0</td></tr>\n",
              "\t<tr><td> 9</td><td>114</td><td>72</td><td> 50</td><td>MODERATE   </td><td>231</td><td>237</td><td>237</td><td>2.13</td><td>63.00</td><td>⋯</td><td>69.61</td><td>3</td><td>2</td><td>1</td><td>1</td><td>1</td><td>0</td><td>0</td><td>1</td><td>0</td></tr>\n",
              "\t<tr><td>10</td><td>152</td><td>75</td><td>  6</td><td>SEVERE     </td><td>226</td><td>240</td><td>240</td><td>1.06</td><td>46.00</td><td>⋯</td><td>55.56</td><td>3</td><td>3</td><td>0</td><td>2</td><td>0</td><td>1</td><td>0</td><td>0</td><td>0</td></tr>\n",
              "\t<tr><td>11</td><td>166</td><td>76</td><td>  6</td><td>SEVERE     </td><td>226</td><td>240</td><td>240</td><td>1.10</td><td>46.00</td><td>⋯</td><td>55.56</td><td>3</td><td>3</td><td>0</td><td>2</td><td>1</td><td>1</td><td>0</td><td>1</td><td>0</td></tr>\n",
              "\t<tr><td>12</td><td>139</td><td>59</td><td> 28</td><td>VERY SEVERE</td><td>240</td><td>230</td><td>240</td><td>0.68</td><td>29.00</td><td>⋯</td><td>55.23</td><td>1</td><td>4</td><td>0</td><td>2</td><td>0</td><td>0</td><td>0</td><td>1</td><td>0</td></tr>\n",
              "\t<tr><td>13</td><td> 49</td><td>64</td><td> 30</td><td>VERY SEVERE</td><td>246</td><td>234</td><td>246</td><td>0.45</td><td>17.00</td><td>⋯</td><td>50.53</td><td>1</td><td>4</td><td>1</td><td>2</td><td>1</td><td>0</td><td>0</td><td>1</td><td>0</td></tr>\n",
              "\t<tr><td>14</td><td> 80</td><td>74</td><td> 75</td><td>MILD       </td><td>213</td><td>270</td><td>270</td><td>1.79</td><td>83.00</td><td>⋯</td><td>45.00</td><td>3</td><td>1</td><td>0</td><td>1</td><td>0</td><td>0</td><td>0</td><td>1</td><td>0</td></tr>\n",
              "\t<tr><td>15</td><td>162</td><td>70</td><td>103</td><td>MODERATE   </td><td>264</td><td>271</td><td>271</td><td>1.20</td><td>52.00</td><td>⋯</td><td>39.66</td><td>2</td><td>2</td><td>0</td><td>2</td><td>0</td><td>0</td><td>0</td><td>0</td><td>0</td></tr>\n",
              "\t<tr><td>16</td><td>162</td><td>71</td><td>105</td><td>MODERATE   </td><td>264</td><td>271</td><td>271</td><td>0.72</td><td>52.00</td><td>⋯</td><td>39.66</td><td>2</td><td>2</td><td>0</td><td>2</td><td>0</td><td>0</td><td>0</td><td>0</td><td>0</td></tr>\n",
              "\t<tr><td>17</td><td> 41</td><td>69</td><td> 78</td><td>SEVERE     </td><td>243</td><td>273</td><td>273</td><td>1.46</td><td>46.00</td><td>⋯</td><td>28.86</td><td>2</td><td>3</td><td>1</td><td>2</td><td>1</td><td>0</td><td>0</td><td>1</td><td>0</td></tr>\n",
              "\t<tr><td>18</td><td>  1</td><td>55</td><td>109</td><td>MODERATE   </td><td>281</td><td>273</td><td>281</td><td>1.54</td><td>72.00</td><td>⋯</td><td>76.50</td><td>1</td><td>2</td><td>0</td><td>2</td><td>0</td><td>0</td><td>0</td><td>0</td><td>0</td></tr>\n",
              "\t<tr><td>19</td><td>153</td><td>72</td><td> 15</td><td>VERY SEVERE</td><td>289</td><td>267</td><td>289</td><td>0.60</td><td>24.00</td><td>⋯</td><td>38.74</td><td>3</td><td>4</td><td>1</td><td>2</td><td>0</td><td>0</td><td>0</td><td>0</td><td>0</td></tr>\n",
              "\t<tr><td>20</td><td>167</td><td>72</td><td> 15</td><td>VERY SEVERE</td><td>289</td><td>267</td><td>289</td><td>0.89</td><td>24.00</td><td>⋯</td><td>38.74</td><td>3</td><td>4</td><td>1</td><td>2</td><td>0</td><td>0</td><td>0</td><td>0</td><td>0</td></tr>\n",
              "\t<tr><td>21</td><td>138</td><td>74</td><td> 24</td><td>VERY SEVERE</td><td>267</td><td>295</td><td>295</td><td>0.51</td><td>27.00</td><td>⋯</td><td>71.21</td><td>3</td><td>4</td><td>0</td><td>2</td><td>0</td><td>0</td><td>0</td><td>0</td><td>0</td></tr>\n",
              "\t<tr><td>22</td><td> 48</td><td>75</td><td> 40</td><td>VERY SEVERE</td><td>297</td><td>291</td><td>297</td><td>0.79</td><td>30.00</td><td>⋯</td><td>35.79</td><td>3</td><td>4</td><td>1</td><td>1</td><td>0</td><td>0</td><td>0</td><td>0</td><td>0</td></tr>\n",
              "\t<tr><td>23</td><td>110</td><td>69</td><td> 15</td><td>SEVERE     </td><td>300</td><td>300</td><td>300</td><td>0.91</td><td>39.00</td><td>⋯</td><td>58.78</td><td>2</td><td>3</td><td>0</td><td>2</td><td>0</td><td>0</td><td>0</td><td>0</td><td>0</td></tr>\n",
              "\t<tr><td>24</td><td> 15</td><td>73</td><td> 75</td><td>SEVERE     </td><td>300</td><td>243</td><td>300</td><td>1.46</td><td> 3.39</td><td>⋯</td><td>34.71</td><td>3</td><td>3</td><td>1</td><td>2</td><td>1</td><td>0</td><td>0</td><td>0</td><td>0</td></tr>\n",
              "\t<tr><td>25</td><td> 70</td><td>75</td><td> 45</td><td>MILD       </td><td>282</td><td>300</td><td>300</td><td>2.35</td><td>85.00</td><td>⋯</td><td>58.25</td><td>3</td><td>1</td><td>1</td><td>2</td><td>0</td><td>0</td><td>0</td><td>0</td><td>0</td></tr>\n",
              "\t<tr><td>26</td><td> 63</td><td>80</td><td> 67</td><td>MODERATE   </td><td>300</td><td>305</td><td>305</td><td>1.77</td><td>58.00</td><td>⋯</td><td>67.66</td><td>4</td><td>2</td><td>1</td><td>2</td><td>0</td><td>0</td><td>0</td><td>0</td><td>0</td></tr>\n",
              "\t<tr><td>27</td><td> 81</td><td>76</td><td> 38</td><td>SEVERE     </td><td>281</td><td>312</td><td>312</td><td>1.06</td><td>32.00</td><td>⋯</td><td>56.80</td><td>4</td><td>3</td><td>1</td><td>1</td><td>0</td><td>0</td><td>0</td><td>0</td><td>0</td></tr>\n",
              "\t<tr><td>28</td><td> 11</td><td>73</td><td> 31</td><td>MODERATE   </td><td>336</td><td>336</td><td>336</td><td>1.88</td><td>70.00</td><td>⋯</td><td>66.51</td><td>3</td><td>2</td><td>1</td><td>2</td><td>0</td><td>1</td><td>0</td><td>0</td><td>0</td></tr>\n",
              "\t<tr><td>29</td><td> 31</td><td>77</td><td> 75</td><td>MODERATE   </td><td>322</td><td>338</td><td>338</td><td>1.92</td><td>68.00</td><td>⋯</td><td>36.39</td><td>4</td><td>2</td><td>1</td><td>2</td><td>0</td><td>1</td><td>0</td><td>1</td><td>0</td></tr>\n",
              "\t<tr><td>30</td><td> 68</td><td>88</td><td>  1</td><td>SEVERE     </td><td>350</td><td>350</td><td>350</td><td>1.30</td><td>37.00</td><td>⋯</td><td>47.20</td><td>4</td><td>3</td><td>1</td><td>2</td><td>1</td><td>0</td><td>1</td><td>0</td><td>1</td></tr>\n",
              "\t<tr><td>⋮</td><td>⋮</td><td>⋮</td><td>⋮</td><td>⋮</td><td>⋮</td><td>⋮</td><td>⋮</td><td>⋮</td><td>⋮</td><td>⋱</td><td>⋮</td><td>⋮</td><td>⋮</td><td>⋮</td><td>⋮</td><td>⋮</td><td>⋮</td><td>⋮</td><td>⋮</td><td>⋮</td></tr>\n",
              "\t<tr><td> 72</td><td>140</td><td>49</td><td>39</td><td>VERY SEVERE</td><td>461</td><td>460</td><td>461</td><td>0.74</td><td>27.00</td><td>⋯</td><td>28.33</td><td>1</td><td>4</td><td>0</td><td>2</td><td>0</td><td>0</td><td>0</td><td>0</td><td>0</td></tr>\n",
              "\t<tr><td> 73</td><td>  3</td><td>75</td><td> 5</td><td>MODERATE   </td><td>462</td><td>423</td><td>462</td><td>2.43</td><td>79.00</td><td>⋯</td><td>47.88</td><td>3</td><td>2</td><td>1</td><td>2</td><td>0</td><td>0</td><td>0</td><td>0</td><td>0</td></tr>\n",
              "\t<tr><td> 74</td><td> 30</td><td>73</td><td>60</td><td>MODERATE   </td><td>443</td><td>462</td><td>462</td><td>1.92</td><td>66.00</td><td>⋯</td><td>56.96</td><td>3</td><td>2</td><td>1</td><td>2</td><td>0</td><td>1</td><td>0</td><td>0</td><td>1</td></tr>\n",
              "\t<tr><td> 75</td><td> 54</td><td>78</td><td>30</td><td>SEVERE     </td><td>420</td><td>465</td><td>465</td><td>1.14</td><td>36.00</td><td>⋯</td><td>34.46</td><td>4</td><td>3</td><td>1</td><td>2</td><td>0</td><td>0</td><td>0</td><td>0</td><td>0</td></tr>\n",
              "\t<tr><td> 76</td><td>143</td><td>67</td><td>45</td><td>MILD       </td><td>460</td><td>466</td><td>466</td><td>2.79</td><td>88.00</td><td>⋯</td><td>29.98</td><td>2</td><td>1</td><td>1</td><td>1</td><td>0</td><td>0</td><td>0</td><td>0</td><td>0</td></tr>\n",
              "\t<tr><td> 77</td><td>157</td><td>75</td><td>30</td><td>MODERATE   </td><td>469</td><td>399</td><td>469</td><td>1.64</td><td>59.00</td><td>⋯</td><td>32.38</td><td>4</td><td>2</td><td>1</td><td>1</td><td>0</td><td>0</td><td>0</td><td>0</td><td>0</td></tr>\n",
              "\t<tr><td> 78</td><td>157</td><td>76</td><td>30</td><td>MODERATE   </td><td>469</td><td>399</td><td>469</td><td>1.74</td><td>59.00</td><td>⋯</td><td>32.38</td><td>4</td><td>2</td><td>1</td><td>1</td><td>0</td><td>0</td><td>0</td><td>0</td><td>0</td></tr>\n",
              "\t<tr><td> 79</td><td> 34</td><td>63</td><td>50</td><td>MODERATE   </td><td>476</td><td>414</td><td>476</td><td>1.69</td><td>68.00</td><td>⋯</td><td>47.36</td><td>1</td><td>2</td><td>0</td><td>2</td><td>1</td><td>0</td><td>0</td><td>0</td><td>0</td></tr>\n",
              "\t<tr><td> 80</td><td> 78</td><td>65</td><td> 6</td><td>MILD       </td><td>468</td><td>480</td><td>480</td><td>3.18</td><td>85.00</td><td>⋯</td><td>56.20</td><td>1</td><td>1</td><td>0</td><td>2</td><td>0</td><td>0</td><td>0</td><td>0</td><td>0</td></tr>\n",
              "\t<tr><td> 81</td><td> 18</td><td>65</td><td>20</td><td>MILD       </td><td>468</td><td>480</td><td>480</td><td>2.13</td><td>92.00</td><td>⋯</td><td> 2.00</td><td>1</td><td>1</td><td>0</td><td>2</td><td>0</td><td>0</td><td>1</td><td>0</td><td>0</td></tr>\n",
              "\t<tr><td> 82</td><td> 52</td><td>62</td><td> 8</td><td>MODERATE   </td><td>459</td><td>480</td><td>480</td><td>2.52</td><td>79.00</td><td>⋯</td><td>32.69</td><td>1</td><td>2</td><td>1</td><td>2</td><td>0</td><td>0</td><td>1</td><td>0</td><td>0</td></tr>\n",
              "\t<tr><td> 83</td><td>146</td><td>63</td><td>20</td><td>MODERATE   </td><td>474</td><td>489</td><td>489</td><td>1.01</td><td>54.00</td><td>⋯</td><td>17.95</td><td>1</td><td>2</td><td>0</td><td>2</td><td>0</td><td>0</td><td>0</td><td>0</td><td>0</td></tr>\n",
              "\t<tr><td> 84</td><td>104</td><td>64</td><td>35</td><td>SEVERE     </td><td>474</td><td>489</td><td>489</td><td>0.82</td><td>46.00</td><td>⋯</td><td>67.56</td><td>1</td><td>3</td><td>0</td><td>1</td><td>0</td><td>0</td><td>0</td><td>0</td><td>0</td></tr>\n",
              "\t<tr><td> 85</td><td> 92</td><td>72</td><td>75</td><td>SEVERE     </td><td>492</td><td>440</td><td>492</td><td>0.94</td><td>30.00</td><td>⋯</td><td>45.30</td><td>3</td><td>3</td><td>1</td><td>2</td><td>1</td><td>0</td><td>0</td><td>0</td><td>0</td></tr>\n",
              "\t<tr><td> 86</td><td> 87</td><td>61</td><td> 9</td><td>MODERATE   </td><td>496</td><td>492</td><td>496</td><td>1.37</td><td>55.00</td><td>⋯</td><td>39.51</td><td>1</td><td>2</td><td>0</td><td>1</td><td>0</td><td>0</td><td>0</td><td>0</td><td>0</td></tr>\n",
              "\t<tr><td> 87</td><td> 16</td><td>60</td><td>10</td><td>MODERATE   </td><td>492</td><td>498</td><td>498</td><td>1.96</td><td> 3.29</td><td>⋯</td><td>24.52</td><td>1</td><td>2</td><td>1</td><td>2</td><td>0</td><td>0</td><td>0</td><td>0</td><td>0</td></tr>\n",
              "\t<tr><td> 88</td><td>133</td><td>78</td><td>51</td><td>MODERATE   </td><td>501</td><td>496</td><td>501</td><td>1.23</td><td>76.00</td><td>⋯</td><td>33.69</td><td>4</td><td>2</td><td>0</td><td>2</td><td>0</td><td>0</td><td>0</td><td>0</td><td>1</td></tr>\n",
              "\t<tr><td> 89</td><td> 90</td><td>67</td><td>20</td><td>MODERATE   </td><td>496</td><td>505</td><td>505</td><td>2.74</td><td>75.00</td><td>⋯</td><td> 8.12</td><td>2</td><td>2</td><td>1</td><td>2</td><td>0</td><td>0</td><td>0</td><td>0</td><td>0</td></tr>\n",
              "\t<tr><td> 90</td><td>111</td><td>68</td><td>30</td><td>MILD       </td><td>510</td><td>518</td><td>518</td><td>1.75</td><td>61.00</td><td>⋯</td><td>33.20</td><td>2</td><td>1</td><td>1</td><td>1</td><td>0</td><td>0</td><td>0</td><td>0</td><td>0</td></tr>\n",
              "\t<tr><td> 91</td><td>118</td><td>72</td><td>30</td><td>MILD       </td><td>510</td><td>525</td><td>525</td><td>2.80</td><td>80.00</td><td>⋯</td><td>42.88</td><td>3</td><td>1</td><td>1</td><td>2</td><td>0</td><td>0</td><td>0</td><td>0</td><td>0</td></tr>\n",
              "\t<tr><td> 92</td><td>149</td><td>69</td><td>27</td><td>MODERATE   </td><td>495</td><td>531</td><td>531</td><td>1.89</td><td>69.00</td><td>⋯</td><td> 8.25</td><td>2</td><td>2</td><td>1</td><td>2</td><td>0</td><td>0</td><td>0</td><td>0</td><td>0</td></tr>\n",
              "\t<tr><td> 93</td><td>163</td><td>68</td><td>27</td><td>MODERATE   </td><td>495</td><td>531</td><td>531</td><td>1.89</td><td>69.00</td><td>⋯</td><td> 8.25</td><td>2</td><td>2</td><td>1</td><td>2</td><td>0</td><td>0</td><td>0</td><td>0</td><td>0</td></tr>\n",
              "\t<tr><td> 94</td><td>112</td><td>52</td><td>40</td><td>MILD       </td><td>483</td><td>540</td><td>540</td><td>2.93</td><td>75.00</td><td>⋯</td><td>25.62</td><td>1</td><td>1</td><td>1</td><td>1</td><td>0</td><td>0</td><td>0</td><td>0</td><td>0</td></tr>\n",
              "\t<tr><td> 95</td><td>135</td><td>55</td><td>40</td><td>MILD       </td><td>522</td><td>540</td><td>540</td><td>2.75</td><td>85.00</td><td>⋯</td><td>58.41</td><td>1</td><td>1</td><td>1</td><td>2</td><td>1</td><td>0</td><td>0</td><td>0</td><td>1</td></tr>\n",
              "\t<tr><td> 96</td><td> 12</td><td>72</td><td>30</td><td>MODERATE   </td><td>558</td><td>563</td><td>558</td><td>1.61</td><td>61.00</td><td>⋯</td><td>34.64</td><td>3</td><td>2</td><td>1</td><td>2</td><td>0</td><td>0</td><td>0</td><td>0</td><td>1</td></tr>\n",
              "\t<tr><td> 97</td><td> 10</td><td>68</td><td>25</td><td>MILD       </td><td>511</td><td>575</td><td>575</td><td>2.70</td><td>98.00</td><td>⋯</td><td>35.84</td><td>2</td><td>1</td><td>1</td><td>2</td><td>0</td><td>1</td><td>0</td><td>0</td><td>0</td></tr>\n",
              "\t<tr><td> 98</td><td> 43</td><td>75</td><td>40</td><td>MILD       </td><td>576</td><td>577</td><td>577</td><td>2.90</td><td>93.00</td><td>⋯</td><td>15.05</td><td>3</td><td>1</td><td>1</td><td>2</td><td>0</td><td>1</td><td>0</td><td>0</td><td>1</td></tr>\n",
              "\t<tr><td> 99</td><td> 74</td><td>68</td><td>30</td><td>MODERATE   </td><td>468</td><td>582</td><td>582</td><td>1.65</td><td>67.00</td><td>⋯</td><td>19.70</td><td>2</td><td>2</td><td>0</td><td>2</td><td>0</td><td>0</td><td>1</td><td>0</td><td>0</td></tr>\n",
              "\t<tr><td>100</td><td>108</td><td>54</td><td>30</td><td>SEVERE     </td><td>688</td><td>699</td><td>699</td><td>1.72</td><td>44.00</td><td>⋯</td><td>20.55</td><td>1</td><td>3</td><td>1</td><td>2</td><td>0</td><td>0</td><td>0</td><td>0</td><td>0</td></tr>\n",
              "\t<tr><td>101</td><td> 85</td><td>78</td><td>55</td><td>MODERATE   </td><td> NA</td><td> NA</td><td> NA</td><td>1.15</td><td>54.00</td><td>⋯</td><td>30.21</td><td>4</td><td>2</td><td>1</td><td>2</td><td>0</td><td>0</td><td>0</td><td>0</td><td>0</td></tr>\n",
              "</tbody>\n",
              "</table>\n"
            ],
            "text/plain": [
              "    X   ID  AGE PackHistory COPDSEVERITY MWT1 MWT2 MWT1Best FEV1 FEV1PRED ⋯\n",
              "1    1   58 77   60         SEVERE       120  120  120      1.21 36.00    ⋯\n",
              "2    2   57 79   50         MODERATE     165  176  176      1.09 56.00    ⋯\n",
              "3    3   62 80   11         MODERATE     201  180  201      1.52 68.00    ⋯\n",
              "4    4  145 56   60         VERY SEVERE  210  210  210      0.47 14.00    ⋯\n",
              "5    5  136 65   68         SEVERE       204  210  210      1.07 42.00    ⋯\n",
              "6    6   84 67   26         MODERATE     216  180  216      1.09 50.00    ⋯\n",
              "7    7   93 67   50         SEVERE       214  237  237      0.69 35.00    ⋯\n",
              "8    8   27 83   90         SEVERE       214  237  237      0.68 32.00    ⋯\n",
              "9    9  114 72   50         MODERATE     231  237  237      2.13 63.00    ⋯\n",
              "10  10  152 75    6         SEVERE       226  240  240      1.06 46.00    ⋯\n",
              "11  11  166 76    6         SEVERE       226  240  240      1.10 46.00    ⋯\n",
              "12  12  139 59   28         VERY SEVERE  240  230  240      0.68 29.00    ⋯\n",
              "13  13   49 64   30         VERY SEVERE  246  234  246      0.45 17.00    ⋯\n",
              "14  14   80 74   75         MILD         213  270  270      1.79 83.00    ⋯\n",
              "15  15  162 70  103         MODERATE     264  271  271      1.20 52.00    ⋯\n",
              "16  16  162 71  105         MODERATE     264  271  271      0.72 52.00    ⋯\n",
              "17  17   41 69   78         SEVERE       243  273  273      1.46 46.00    ⋯\n",
              "18  18    1 55  109         MODERATE     281  273  281      1.54 72.00    ⋯\n",
              "19  19  153 72   15         VERY SEVERE  289  267  289      0.60 24.00    ⋯\n",
              "20  20  167 72   15         VERY SEVERE  289  267  289      0.89 24.00    ⋯\n",
              "21  21  138 74   24         VERY SEVERE  267  295  295      0.51 27.00    ⋯\n",
              "22  22   48 75   40         VERY SEVERE  297  291  297      0.79 30.00    ⋯\n",
              "23  23  110 69   15         SEVERE       300  300  300      0.91 39.00    ⋯\n",
              "24  24   15 73   75         SEVERE       300  243  300      1.46  3.39    ⋯\n",
              "25  25   70 75   45         MILD         282  300  300      2.35 85.00    ⋯\n",
              "26  26   63 80   67         MODERATE     300  305  305      1.77 58.00    ⋯\n",
              "27  27   81 76   38         SEVERE       281  312  312      1.06 32.00    ⋯\n",
              "28  28   11 73   31         MODERATE     336  336  336      1.88 70.00    ⋯\n",
              "29  29   31 77   75         MODERATE     322  338  338      1.92 68.00    ⋯\n",
              "30  30   68 88    1         SEVERE       350  350  350      1.30 37.00    ⋯\n",
              "⋮   ⋮   ⋮   ⋮   ⋮           ⋮            ⋮    ⋮    ⋮        ⋮    ⋮        ⋱\n",
              "72   72 140 49  39          VERY SEVERE  461  460  461      0.74 27.00    ⋯\n",
              "73   73   3 75   5          MODERATE     462  423  462      2.43 79.00    ⋯\n",
              "74   74  30 73  60          MODERATE     443  462  462      1.92 66.00    ⋯\n",
              "75   75  54 78  30          SEVERE       420  465  465      1.14 36.00    ⋯\n",
              "76   76 143 67  45          MILD         460  466  466      2.79 88.00    ⋯\n",
              "77   77 157 75  30          MODERATE     469  399  469      1.64 59.00    ⋯\n",
              "78   78 157 76  30          MODERATE     469  399  469      1.74 59.00    ⋯\n",
              "79   79  34 63  50          MODERATE     476  414  476      1.69 68.00    ⋯\n",
              "80   80  78 65   6          MILD         468  480  480      3.18 85.00    ⋯\n",
              "81   81  18 65  20          MILD         468  480  480      2.13 92.00    ⋯\n",
              "82   82  52 62   8          MODERATE     459  480  480      2.52 79.00    ⋯\n",
              "83   83 146 63  20          MODERATE     474  489  489      1.01 54.00    ⋯\n",
              "84   84 104 64  35          SEVERE       474  489  489      0.82 46.00    ⋯\n",
              "85   85  92 72  75          SEVERE       492  440  492      0.94 30.00    ⋯\n",
              "86   86  87 61   9          MODERATE     496  492  496      1.37 55.00    ⋯\n",
              "87   87  16 60  10          MODERATE     492  498  498      1.96  3.29    ⋯\n",
              "88   88 133 78  51          MODERATE     501  496  501      1.23 76.00    ⋯\n",
              "89   89  90 67  20          MODERATE     496  505  505      2.74 75.00    ⋯\n",
              "90   90 111 68  30          MILD         510  518  518      1.75 61.00    ⋯\n",
              "91   91 118 72  30          MILD         510  525  525      2.80 80.00    ⋯\n",
              "92   92 149 69  27          MODERATE     495  531  531      1.89 69.00    ⋯\n",
              "93   93 163 68  27          MODERATE     495  531  531      1.89 69.00    ⋯\n",
              "94   94 112 52  40          MILD         483  540  540      2.93 75.00    ⋯\n",
              "95   95 135 55  40          MILD         522  540  540      2.75 85.00    ⋯\n",
              "96   96  12 72  30          MODERATE     558  563  558      1.61 61.00    ⋯\n",
              "97   97  10 68  25          MILD         511  575  575      2.70 98.00    ⋯\n",
              "98   98  43 75  40          MILD         576  577  577      2.90 93.00    ⋯\n",
              "99   99  74 68  30          MODERATE     468  582  582      1.65 67.00    ⋯\n",
              "100 100 108 54  30          SEVERE       688  699  699      1.72 44.00    ⋯\n",
              "101 101  85 78  55          MODERATE      NA   NA   NA      1.15 54.00    ⋯\n",
              "    SGRQ  AGEquartiles copd gender smoking Diabetes muscular hypertension\n",
              "1   69.55 4            3    1      2       1        0        0           \n",
              "2   44.24 4            2    0      2       1        0        0           \n",
              "3   44.09 4            2    0      2       1        0        0           \n",
              "4   62.04 1            4    1      2       0        0        1           \n",
              "5   75.56 1            3    1      2       0        1        1           \n",
              "6   73.82 2            2    0      1       1        0        0           \n",
              "7   77.44 2            3    0      1       1        0        0           \n",
              "8   45.41 4            3    1      2       1        0        0           \n",
              "9   69.61 3            2    1      1       1        0        0           \n",
              "10  55.56 3            3    0      2       0        1        0           \n",
              "11  55.56 3            3    0      2       1        1        0           \n",
              "12  55.23 1            4    0      2       0        0        0           \n",
              "13  50.53 1            4    1      2       1        0        0           \n",
              "14  45.00 3            1    0      1       0        0        0           \n",
              "15  39.66 2            2    0      2       0        0        0           \n",
              "16  39.66 2            2    0      2       0        0        0           \n",
              "17  28.86 2            3    1      2       1        0        0           \n",
              "18  76.50 1            2    0      2       0        0        0           \n",
              "19  38.74 3            4    1      2       0        0        0           \n",
              "20  38.74 3            4    1      2       0        0        0           \n",
              "21  71.21 3            4    0      2       0        0        0           \n",
              "22  35.79 3            4    1      1       0        0        0           \n",
              "23  58.78 2            3    0      2       0        0        0           \n",
              "24  34.71 3            3    1      2       1        0        0           \n",
              "25  58.25 3            1    1      2       0        0        0           \n",
              "26  67.66 4            2    1      2       0        0        0           \n",
              "27  56.80 4            3    1      1       0        0        0           \n",
              "28  66.51 3            2    1      2       0        1        0           \n",
              "29  36.39 4            2    1      2       0        1        0           \n",
              "30  47.20 4            3    1      2       1        0        1           \n",
              "⋮   ⋮     ⋮            ⋮    ⋮      ⋮       ⋮        ⋮        ⋮           \n",
              "72  28.33 1            4    0      2       0        0        0           \n",
              "73  47.88 3            2    1      2       0        0        0           \n",
              "74  56.96 3            2    1      2       0        1        0           \n",
              "75  34.46 4            3    1      2       0        0        0           \n",
              "76  29.98 2            1    1      1       0        0        0           \n",
              "77  32.38 4            2    1      1       0        0        0           \n",
              "78  32.38 4            2    1      1       0        0        0           \n",
              "79  47.36 1            2    0      2       1        0        0           \n",
              "80  56.20 1            1    0      2       0        0        0           \n",
              "81   2.00 1            1    0      2       0        0        1           \n",
              "82  32.69 1            2    1      2       0        0        1           \n",
              "83  17.95 1            2    0      2       0        0        0           \n",
              "84  67.56 1            3    0      1       0        0        0           \n",
              "85  45.30 3            3    1      2       1        0        0           \n",
              "86  39.51 1            2    0      1       0        0        0           \n",
              "87  24.52 1            2    1      2       0        0        0           \n",
              "88  33.69 4            2    0      2       0        0        0           \n",
              "89   8.12 2            2    1      2       0        0        0           \n",
              "90  33.20 2            1    1      1       0        0        0           \n",
              "91  42.88 3            1    1      2       0        0        0           \n",
              "92   8.25 2            2    1      2       0        0        0           \n",
              "93   8.25 2            2    1      2       0        0        0           \n",
              "94  25.62 1            1    1      1       0        0        0           \n",
              "95  58.41 1            1    1      2       1        0        0           \n",
              "96  34.64 3            2    1      2       0        0        0           \n",
              "97  35.84 2            1    1      2       0        1        0           \n",
              "98  15.05 3            1    1      2       0        1        0           \n",
              "99  19.70 2            2    0      2       0        0        1           \n",
              "100 20.55 1            3    1      2       0        0        0           \n",
              "101 30.21 4            2    1      2       0        0        0           \n",
              "    AtrialFib IHD\n",
              "1   1         0  \n",
              "2   1         1  \n",
              "3   1         0  \n",
              "4   1         0  \n",
              "5   0         0  \n",
              "6   1         0  \n",
              "7   1         0  \n",
              "8   1         0  \n",
              "9   1         0  \n",
              "10  0         0  \n",
              "11  1         0  \n",
              "12  1         0  \n",
              "13  1         0  \n",
              "14  1         0  \n",
              "15  0         0  \n",
              "16  0         0  \n",
              "17  1         0  \n",
              "18  0         0  \n",
              "19  0         0  \n",
              "20  0         0  \n",
              "21  0         0  \n",
              "22  0         0  \n",
              "23  0         0  \n",
              "24  0         0  \n",
              "25  0         0  \n",
              "26  0         0  \n",
              "27  0         0  \n",
              "28  0         0  \n",
              "29  1         0  \n",
              "30  0         1  \n",
              "⋮   ⋮         ⋮  \n",
              "72  0         0  \n",
              "73  0         0  \n",
              "74  0         1  \n",
              "75  0         0  \n",
              "76  0         0  \n",
              "77  0         0  \n",
              "78  0         0  \n",
              "79  0         0  \n",
              "80  0         0  \n",
              "81  0         0  \n",
              "82  0         0  \n",
              "83  0         0  \n",
              "84  0         0  \n",
              "85  0         0  \n",
              "86  0         0  \n",
              "87  0         0  \n",
              "88  0         1  \n",
              "89  0         0  \n",
              "90  0         0  \n",
              "91  0         0  \n",
              "92  0         0  \n",
              "93  0         0  \n",
              "94  0         0  \n",
              "95  0         1  \n",
              "96  0         1  \n",
              "97  0         0  \n",
              "98  0         1  \n",
              "99  0         0  \n",
              "100 0         0  \n",
              "101 0         0  "
            ]
          },
          "metadata": {}
        }
      ]
    },
    {
      "cell_type": "markdown",
      "metadata": {
        "id": "LZp-DJknfxIg"
      },
      "source": [
        "Model name <- lm(outcome ~ predictor1 + predictor2, data =dataframe) "
      ]
    },
    {
      "cell_type": "code",
      "metadata": {
        "id": "pk31qQWYe7Lx"
      },
      "source": [
        "MWT1Best_FEV1_AGE <- lm(MWT1Best ~ FEV1+AGE,data = COPD)"
      ],
      "execution_count": 4,
      "outputs": []
    },
    {
      "cell_type": "code",
      "metadata": {
        "colab": {
          "base_uri": "https://localhost:8080/",
          "height": 364
        },
        "id": "avVA5UgsgOFo",
        "outputId": "35e31927-4c3f-480d-f6fc-18c5d15a08a2"
      },
      "source": [
        "# View the output and the 95% CIs of this model\n",
        "summary(MWT1Best_FEV1_AGE)"
      ],
      "execution_count": 6,
      "outputs": [
        {
          "output_type": "display_data",
          "data": {
            "text/plain": [
              "\n",
              "Call:\n",
              "lm(formula = MWT1Best ~ FEV1 + AGE, data = COPD)\n",
              "\n",
              "Residuals:\n",
              "    Min      1Q  Median      3Q     Max \n",
              "-233.13  -62.55   16.81   67.41  251.57 \n",
              "\n",
              "Coefficients:\n",
              "            Estimate Std. Error t value Pr(>|t|)    \n",
              "(Intercept)  460.887     88.675   5.197 1.12e-06 ***\n",
              "FEV1          71.278     13.909   5.125 1.52e-06 ***\n",
              "AGE           -2.519      1.188  -2.121   0.0365 *  \n",
              "---\n",
              "Signif. codes:  0 ‘***’ 0.001 ‘**’ 0.01 ‘*’ 0.05 ‘.’ 0.1 ‘ ’ 1\n",
              "\n",
              "Residual standard error: 92.93 on 97 degrees of freedom\n",
              "  (1 observation deleted due to missingness)\n",
              "Multiple R-squared:  0.2547,\tAdjusted R-squared:  0.2394 \n",
              "F-statistic: 16.58 on 2 and 97 DF,  p-value: 6.419e-07\n"
            ]
          },
          "metadata": {}
        }
      ]
    },
    {
      "cell_type": "code",
      "metadata": {
        "colab": {
          "base_uri": "https://localhost:8080/",
          "height": 161
        },
        "id": "5Qj6KOdPgU3k",
        "outputId": "8f1c5b2d-3054-4e16-cd67-5975a7d2b601"
      },
      "source": [
        "confint(MWT1Best_FEV1_AGE)"
      ],
      "execution_count": 7,
      "outputs": [
        {
          "output_type": "display_data",
          "data": {
            "text/plain": [
              "            2.5 %      97.5 %     \n",
              "(Intercept) 284.892098 636.8819576\n",
              "FEV1         43.672965  98.8837921\n",
              "AGE          -4.877264  -0.1616972"
            ],
            "text/latex": "A matrix: 3 × 2 of type dbl\n\\begin{tabular}{r|ll}\n  & 2.5 \\% & 97.5 \\%\\\\\n\\hline\n\t(Intercept) & 284.892098 & 636.8819576\\\\\n\tFEV1 &  43.672965 &  98.8837921\\\\\n\tAGE &  -4.877264 &  -0.1616972\\\\\n\\end{tabular}\n",
            "text/markdown": "\nA matrix: 3 × 2 of type dbl\n\n| <!--/--> | 2.5 % | 97.5 % |\n|---|---|---|\n| (Intercept) | 284.892098 | 636.8819576 |\n| FEV1 |  43.672965 |  98.8837921 |\n| AGE |  -4.877264 |  -0.1616972 |\n\n",
            "text/html": [
              "<table class=\"dataframe\">\n",
              "<caption>A matrix: 3 × 2 of type dbl</caption>\n",
              "<thead>\n",
              "\t<tr><th></th><th scope=col>2.5 %</th><th scope=col>97.5 %</th></tr>\n",
              "</thead>\n",
              "<tbody>\n",
              "\t<tr><th scope=row>(Intercept)</th><td>284.892098</td><td>636.8819576</td></tr>\n",
              "\t<tr><th scope=row>FEV1</th><td> 43.672965</td><td> 98.8837921</td></tr>\n",
              "\t<tr><th scope=row>AGE</th><td> -4.877264</td><td> -0.1616972</td></tr>\n",
              "</tbody>\n",
              "</table>\n"
            ]
          },
          "metadata": {}
        }
      ]
    },
    {
      "cell_type": "code",
      "metadata": {
        "id": "IxzWj9YJghfK"
      },
      "source": [
        ""
      ],
      "execution_count": null,
      "outputs": []
    }
  ]
}